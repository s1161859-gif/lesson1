{
  "cells": [
    {
      "cell_type": "markdown",
      "metadata": {
        "id": "j9BC6kpLZMvX"
      },
      "source": [
        "# Building a ReAct Agent from Scratch\n",
        "\n",
        "This notebook implements a ReAct (Reasoning + Acting) agent using AWS Bedrock.\n",
        "\n",
        "The agent follows this pattern:\n",
        "1. **Thought**: Reasons about what to do\n",
        "2. **Action**: Decides an action to take\n",
        "3. **Observation**: Receives result from action\n",
        "4. **Repeat**: Continues until task is complete\n",
        "\n",
        "## Use Case: Customer Support Ticketing System\n",
        "\n",
        "Our agent will help manage customer support queries by:\n",
        "- Looking up customer information\n",
        "- Checking ticket statuses\n",
        "- Performing calculations when needed"
      ]
    },
    {
      "cell_type": "code",
      "execution_count": null,
      "metadata": {
        "id": "hWXqy50lZMvZ"
      },
      "outputs": [],
      "source": [
        "# Install required packages\n",
        "!pip install -q langchain langchain-aws boto3"
      ]
    },
    {
      "cell_type": "code",
      "execution_count": null,
      "metadata": {
        "id": "OQNk7l4hZMvb"
      },
      "outputs": [],
      "source": [
        "import os\n",
        "import boto3\n",
        "from langchain_aws import ChatBedrock\n",
        "from langchain_core.tools import tool\n",
        "import requests\n",
        "from datetime import datetime\n",
        "import json\n",
        "from google.colab import userdata\n",
        "\n",
        "# Import Google Colab userdata for secure credential access\n",
        "from google.colab import userdata\n",
        "\n",
        "# Configure your AWS credentials using Colab secrets\n",
        "AWS_ACCESS_KEY_ID = userdata.get('awsid')  # Set this in Colab secrets\n",
        "AWS_SECRET_ACCESS_KEY = userdata.get('awssecret')  # Set this in Colab secrets\n",
        "AWS_REGION = \"us-east-1\"  # Change if needed\n",
        "\n",
        "# Initialize Bedrock client\n",
        "bedrock_runtime = boto3.client(\n",
        "    service_name='bedrock-runtime',\n",
        "    region_name=AWS_REGION,\n",
        "    aws_access_key_id=AWS_ACCESS_KEY_ID,\n",
        "    aws_secret_access_key=AWS_SECRET_ACCESS_KEY\n",
        ")\n",
        "\n",
        "print(\"✓ AWS Bedrock client initialized\")\n",
        "\n",
        "# Set up the Bedrock model (using Amazon Nova Lite for cost-effectiveness)\n",
        "llm = ChatBedrock(\n",
        "    client=bedrock_runtime,\n",
        "    model_id=\"amazon.nova-lite-v1:0\",\n",
        "    model_kwargs={\n",
        "        \"temperature\": 0,  # Low temperature for consistent tool calling\n",
        "        \"max_tokens\": 4096\n",
        "    }\n",
        ")"
      ]
    },
    {
      "cell_type": "code",
      "execution_count": null,
      "metadata": {
        "id": "fbE8zuM8ZMvc"
      },
      "outputs": [],
      "source": [
        "# Import additional libraries\n",
        "import re\n",
        "from typing import List, Dict, Any\n",
        "from langchain_core.messages import HumanMessage, AIMessage"
      ]
    },
    {
      "cell_type": "code",
      "execution_count": null,
      "metadata": {
        "id": "I7eGHgKeZMvd"
      },
      "outputs": [],
      "source": [
        "# Test the AWS Bedrock LLM with a simple message\n",
        "def call_llm(messages: List[Dict[str, Any]]) -> str:\n",
        "    \"\"\"\n",
        "    Call AWS Bedrock with messages.\n",
        "    \"\"\"\n",
        "    # Convert to LangChain message format\n",
        "    lc_messages = []\n",
        "    for msg in messages:\n",
        "        if msg[\"role\"] == \"user\":\n",
        "            lc_messages.append(HumanMessage(content=msg[\"content\"]))\n",
        "        elif msg[\"role\"] == \"assistant\":\n",
        "            lc_messages.append(AIMessage(content=msg[\"content\"]))\n",
        "\n",
        "    # Call the model\n",
        "    response = llm.invoke(lc_messages)\n",
        "    return response.content\n",
        "\n",
        "# Test it\n",
        "test_response = call_llm([{\"role\": \"user\", \"content\": \"Hello, world!\"}])\n",
        "print(test_response)"
      ]
    },
    {
      "cell_type": "markdown",
      "metadata": {
        "id": "sorpArISZMvd"
      },
      "source": [
        "## Define the Agent Class\n",
        "\n",
        "The agent maintains a conversation history and executes the ReAct loop."
      ]
    },
    {
      "cell_type": "code",
      "execution_count": null,
      "metadata": {
        "id": "0sTo8ylTZMve"
      },
      "outputs": [],
      "source": [
        "class Agent:\n",
        "    def __init__(self, system: str = \"\"):\n",
        "        \"\"\"\n",
        "        Initialize the agent with an optional system message.\n",
        "        \"\"\"\n",
        "        self.system = system\n",
        "        self.messages: List[Dict[str, str]] = []\n",
        "        if system:\n",
        "            self.messages.append({\"role\": \"system\", \"content\": system})\n",
        "\n",
        "    def __call__(self, message: str) -> str:\n",
        "        \"\"\"\n",
        "        Process a message and return the agent's response.\n",
        "        \"\"\"\n",
        "        # Add user message to conversation history\n",
        "        self.messages.append({\"role\": \"user\", \"content\": message})\n",
        "\n",
        "        # Get response from the model\n",
        "        result = self.execute()\n",
        "\n",
        "        # Add assistant message to conversation history\n",
        "        self.messages.append({\"role\": \"assistant\", \"content\": result})\n",
        "\n",
        "        return result\n",
        "\n",
        "    def execute(self) -> str:\n",
        "        \"\"\"\n",
        "        Execute the model call with current messages.\n",
        "        \"\"\"\n",
        "        # Convert to LangChain messages\n",
        "        lc_messages = []\n",
        "        for msg in self.messages:\n",
        "            if msg[\"role\"] == \"system\":\n",
        "                from langchain_core.messages import SystemMessage\n",
        "                lc_messages.append(SystemMessage(content=msg[\"content\"]))\n",
        "            elif msg[\"role\"] == \"user\":\n",
        "                lc_messages.append(HumanMessage(content=msg[\"content\"]))\n",
        "            elif msg[\"role\"] == \"assistant\":\n",
        "                lc_messages.append(AIMessage(content=msg[\"content\"]))\n",
        "\n",
        "        response = llm.invoke(lc_messages)\n",
        "        return response.content\n",
        "\n",
        "print(\"✓ Agent class defined\")"
      ]
    },
    {
      "cell_type": "markdown",
      "metadata": {
        "id": "qPXh_5BiZMve"
      },
      "source": [
        "## Create the ReAct System Prompt\n",
        "\n",
        "This prompt instructs the model how to use the Thought-Action-Observation loop for customer support tasks."
      ]
    },
    {
      "cell_type": "code",
      "execution_count": null,
      "metadata": {
        "id": "AUyXqa_SZMve"
      },
      "outputs": [],
      "source": [
        "prompt = \"\"\"\n",
        "You run in a loop of Thought, Action, PAUSE, Observation.\n",
        "At the end of the loop you output an Answer.\n",
        "\n",
        "Use Thought to describe your thoughts about the question you have been asked.\n",
        "Use Action to run one of the actions available to you - then return PAUSE.\n",
        "Observation will be the result of running those actions.\n",
        "\n",
        "Your available actions are:\n",
        "\n",
        "calculate:\n",
        "e.g. calculate: 9 * 2 / 4\n",
        "Runs a calculation and returns the number - uses Python so be sure to use floating point syntax if necessary\n",
        "\n",
        "get_customer_info:\n",
        "e.g. get_customer_info: CUST12345\n",
        "Returns customer information including name, plan type, and account status when given a customer ID\n",
        "\n",
        "get_ticket_status:\n",
        "e.g. get_ticket_status: TKT98765\n",
        "Returns the current status and details of a support ticket when given a ticket ID\n",
        "\n",
        "Example session:\n",
        "\n",
        "Question: What is the status of ticket TKT98765 for customer CUST12345?\n",
        "Thought: I need to first get the customer information, then check the ticket status\n",
        "Action: get_customer_info: CUST12345\n",
        "PAUSE\n",
        "\n",
        "You will be called again with this:\n",
        "\n",
        "Observation: Customer: Sarah Johnson, Plan: Premium, Status: Active\n",
        "\n",
        "You then continue:\n",
        "\n",
        "Thought: Now I have the customer info, let me check the ticket status\n",
        "Action: get_ticket_status: TKT98765\n",
        "PAUSE\n",
        "\n",
        "You will be called again with this:\n",
        "\n",
        "Observation: Ticket TKT98765: Status: In Progress, Issue: Billing inquiry, Priority: Medium, Assigned to: Agent Mike\n",
        "\n",
        "You then output:\n",
        "\n",
        "Answer: Ticket TKT98765 belongs to Sarah Johnson (Premium plan, Active status). The ticket is currently In Progress, regarding a billing inquiry with Medium priority, and is assigned to Agent Mike.\n",
        "\"\"\".strip()\n",
        "\n",
        "print(\"✓ System prompt defined\")\n",
        "print(\"\\nPrompt preview:\")\n",
        "print(prompt[:300] + \"...\")"
      ]
    },
    {
      "cell_type": "markdown",
      "metadata": {
        "id": "CAhrbcbOZMvf"
      },
      "source": [
        "## Define Available Tools/Actions\n",
        "\n",
        "These are the functions the agent can call during execution."
      ]
    },
    {
      "cell_type": "code",
      "execution_count": null,
      "metadata": {
        "id": "6cutct4VZMvf"
      },
      "outputs": [],
      "source": [
        "def calculate(operation: str) -> float:\n",
        "    \"\"\"\n",
        "    Perform a mathematical calculation.\n",
        "    \"\"\"\n",
        "    return eval(operation)\n",
        "\n",
        "def get_customer_info(customer_id: str) -> str:\n",
        "    \"\"\"\n",
        "    Return customer information based on customer ID.\n",
        "    This is a mock implementation with hardcoded values.\n",
        "    \"\"\"\n",
        "    customer_id = customer_id.strip().upper()\n",
        "\n",
        "    customers = {\n",
        "        'CUST12345': 'Customer: Sarah Johnson, Plan: Premium, Status: Active',\n",
        "        'CUST67890': 'Customer: John Smith, Plan: Basic, Status: Active',\n",
        "        'CUST11111': 'Customer: Emily Davis, Plan: Enterprise, Status: Active'\n",
        "    }\n",
        "\n",
        "    return customers.get(customer_id, f\"Customer not found: {customer_id}\")\n",
        "\n",
        "def get_ticket_status(ticket_id: str) -> str:\n",
        "    \"\"\"\n",
        "    Return ticket status and details based on ticket ID.\n",
        "    This is a mock implementation with hardcoded values.\n",
        "    \"\"\"\n",
        "    ticket_id = ticket_id.strip().upper()\n",
        "\n",
        "    tickets = {\n",
        "        'TKT98765': 'Ticket TKT98765: Status: In Progress, Issue: Billing inquiry, Priority: Medium, Assigned to: Agent Mike',\n",
        "        'TKT11111': 'Ticket TKT11111: Status: Resolved, Issue: Password reset, Priority: Low, Assigned to: Agent Lisa',\n",
        "        'TKT22222': 'Ticket TKT22222: Status: Open, Issue: Feature request, Priority: High, Assigned to: Agent Tom'\n",
        "    }\n",
        "\n",
        "    return tickets.get(ticket_id, f\"Ticket not found: {ticket_id}\")\n",
        "\n",
        "# Dictionary mapping action names to functions\n",
        "known_actions = {\n",
        "    \"calculate\": calculate,\n",
        "    \"get_customer_info\": get_customer_info,\n",
        "    \"get_ticket_status\": get_ticket_status\n",
        "}\n",
        "\n",
        "print(\"✓ Tools defined:\")\n",
        "for action in known_actions.keys():\n",
        "    print(f\"  - {action}\")"
      ]
    },
    {
      "cell_type": "markdown",
      "metadata": {
        "id": "SUVBTVzzZMvf"
      },
      "source": [
        "## Manual Agent Execution (Step-by-step)\n",
        "\n",
        "Let's first run the agent manually to understand each step."
      ]
    },
    {
      "cell_type": "code",
      "execution_count": null,
      "metadata": {
        "id": "Idt1tCiJZMvg"
      },
      "outputs": [],
      "source": [
        "# Initialize agent with the ReAct prompt\n",
        "agent = Agent(system=prompt)\n",
        "\n",
        "# Step 1: Ask the question\n",
        "result = agent(\"What is the status of ticket TKT98765?\")\n",
        "print(\"Step 1 - Agent's first response:\")\n",
        "print(result)\n",
        "print(\"\\n\" + \"=\"*50 + \"\\n\")"
      ]
    },
    {
      "cell_type": "code",
      "execution_count": null,
      "metadata": {
        "id": "easIyQpaZMvg"
      },
      "outputs": [],
      "source": [
        "# Step 2: Execute the action manually\n",
        "# Parse the action from the response\n",
        "action_match = re.search(r'Action: ([a-z_]+): (.+)', result, re.IGNORECASE)\n",
        "if action_match:\n",
        "    action_name = action_match.group(1).strip()\n",
        "    action_input = action_match.group(2).strip()\n",
        "\n",
        "    print(f\"Executing: {action_name}({action_input})\")\n",
        "\n",
        "    # Call the function\n",
        "    observation = known_actions[action_name](action_input)\n",
        "    print(f\"Observation: {observation}\")\n",
        "\n",
        "    # Format the observation for the agent\n",
        "    next_prompt = f\"Observation: {observation}\"\n",
        "    print(\"\\n\" + \"=\"*50 + \"\\n\")"
      ]
    },
    {
      "cell_type": "code",
      "execution_count": null,
      "metadata": {
        "id": "qzOKfsRQZMvg"
      },
      "outputs": [],
      "source": [
        "# Step 3: Pass observation back to agent\n",
        "result = agent(next_prompt)\n",
        "print(\"Step 3 - Agent's final response:\")\n",
        "print(result)\n",
        "print(\"\\n\" + \"=\"*50 + \"\\n\")"
      ]
    },
    {
      "cell_type": "code",
      "execution_count": null,
      "metadata": {
        "id": "D3ZBa2nyZMvh"
      },
      "outputs": [],
      "source": [
        "# View the complete message history\n",
        "print(\"Complete conversation history:\")\n",
        "for i, msg in enumerate(agent.messages):\n",
        "    print(f\"\\n{i+1}. {msg['role'].upper()}:\")\n",
        "    print(msg['content'][:200] + (\"...\" if len(msg['content']) > 200 else \"\"))"
      ]
    },
    {
      "cell_type": "markdown",
      "metadata": {
        "id": "PBvFnjW8ZMvh"
      },
      "source": [
        "## Complex Example (Manual)\n",
        "\n",
        "Let's try a more complex question that requires multiple steps."
      ]
    },
    {
      "cell_type": "code",
      "execution_count": null,
      "metadata": {
        "id": "tkk88WzTZMvh"
      },
      "outputs": [],
      "source": [
        "# Reinitialize the agent\n",
        "agent = Agent(system=prompt)\n",
        "\n",
        "# Ask a complex question\n",
        "question = \"Get me the details for customer CUST12345 and their ticket TKT98765\"\n",
        "result = agent(question)\n",
        "print(\"Question:\", question)\n",
        "print(\"\\nAgent response:\")\n",
        "print(result)\n",
        "print(\"\\n\" + \"=\"*50)"
      ]
    },
    {
      "cell_type": "markdown",
      "metadata": {
        "id": "Fh-ePNrwZMvi"
      },
      "source": [
        "## Automated Agent Loop\n",
        "\n",
        "Now let's automate the entire ReAct loop."
      ]
    },
    {
      "cell_type": "code",
      "execution_count": null,
      "metadata": {
        "id": "N-E_VBdEZMvi"
      },
      "outputs": [],
      "source": [
        "# Regex pattern to find actions in the response\n",
        "action_re = re.compile(r'^Action: (\\w+): (.*)$', re.MULTILINE)\n",
        "\n",
        "def query(question: str, max_turns: int = 5) -> str:\n",
        "    \"\"\"\n",
        "    Run the agent in an automated loop until it provides an answer.\n",
        "    \"\"\"\n",
        "    i = 0\n",
        "    agent = Agent(system=prompt)\n",
        "    next_prompt = question\n",
        "\n",
        "    while i < max_turns:\n",
        "        i += 1\n",
        "        print(f\"\\n{'='*60}\")\n",
        "        print(f\"Turn {i}\")\n",
        "        print(f\"{'='*60}\")\n",
        "\n",
        "        # Get agent's response\n",
        "        result = agent(next_prompt)\n",
        "        print(result)\n",
        "\n",
        "        # Parse for actions\n",
        "        actions = [\n",
        "            (action_match.group(1), action_match.group(2))\n",
        "            for action_match in action_re.finditer(result)\n",
        "        ]\n",
        "\n",
        "        # If there are actions to take\n",
        "        if actions:\n",
        "            action, action_input = actions[0]\n",
        "\n",
        "            if action not in known_actions:\n",
        "                raise Exception(f\"Unknown action: {action}: {action_input}\")\n",
        "\n",
        "            print(f\"\\n→ Executing: {action}({action_input})\")\n",
        "            observation = known_actions[action](action_input)\n",
        "            print(f\"→ Observation: {observation}\")\n",
        "\n",
        "            next_prompt = f\"Observation: {observation}\"\n",
        "        else:\n",
        "            # No actions found, agent is done\n",
        "            print(\"\\n✓ Agent finished!\")\n",
        "            return result\n",
        "\n",
        "    print(\"\\n⚠ Max turns reached\")\n",
        "    return result\n",
        "\n",
        "print(\"✓ Query function defined\")"
      ]
    },
    {
      "cell_type": "markdown",
      "metadata": {
        "id": "Fm--I4nbZMvi"
      },
      "source": [
        "## Run the Automated Agent\n",
        "\n",
        "Let's test the agent with various customer support scenarios."
      ]
    },
    {
      "cell_type": "code",
      "execution_count": null,
      "metadata": {
        "id": "Gg7lZJZ4ZMvi"
      },
      "outputs": [],
      "source": [
        "# Simple question - check ticket status\n",
        "result = query(\"What is the status of ticket TKT98765?\")"
      ]
    },
    {
      "cell_type": "code",
      "execution_count": null,
      "metadata": {
        "id": "t99m1VzuZMvj"
      },
      "outputs": [],
      "source": [
        "# Complex question requiring multiple steps\n",
        "result = query(\"Get me the details for customer CUST12345 and their ticket TKT98765\")"
      ]
    },
    {
      "cell_type": "code",
      "execution_count": null,
      "metadata": {
        "id": "8o0AfCpFZMvj"
      },
      "outputs": [],
      "source": [
        "# Question about customer information\n",
        "result = query(\"Who is customer CUST67890 and what plan are they on?\")"
      ]
    },
    {
      "cell_type": "code",
      "execution_count": null,
      "metadata": {
        "id": "g4Ep4rqlZMvj"
      },
      "outputs": [],
      "source": [
        "# Multiple ticket statuses\n",
        "result = query(\"What are the statuses of tickets TKT11111 and TKT22222?\")"
      ]
    },
    {
      "cell_type": "code",
      "execution_count": null,
      "metadata": {
        "id": "f9w22jjmZMvj"
      },
      "outputs": [],
      "source": [
        "# Question with calculation\n",
        "result = query(\"If we have 15 high priority tickets and 23 medium priority tickets, what's the total number of tickets?\")"
      ]
    },
    {
      "cell_type": "code",
      "execution_count": null,
      "metadata": {
        "id": "8hBfYoXaZMvj"
      },
      "outputs": [],
      "source": [
        "# Complex scenario with customer info and calculation\n",
        "result = query(\"Customer CUST11111 has 3 open tickets and customer CUST67890 has 5 open tickets. What's their combined ticket count?\")"
      ]
    },
    {
      "cell_type": "markdown",
      "metadata": {
        "id": "fPrJkfehZMvk"
      },
      "source": [
        "## Summary\n",
        "\n",
        "In this notebook, we built a ReAct agent from scratch that:\n",
        "\n",
        "1. **Thinks** about customer support problems using natural language reasoning\n",
        "2. **Acts** by calling available tools/functions:\n",
        "   - `get_customer_info`: Retrieves customer details\n",
        "   - `get_ticket_status`: Checks support ticket information\n",
        "   - `calculate`: Performs mathematical operations\n",
        "3. **Observes** the results of those actions\n",
        "4. **Repeats** until it can provide a final answer\n",
        "\n",
        "### Key Components:\n",
        "\n",
        "- **Agent Class**: Manages conversation history and model calls\n",
        "- **System Prompt**: Instructs the model on the ReAct pattern\n",
        "- **Tools**: Functions the agent can call (customer info, ticket status, calculations)\n",
        "- **Query Loop**: Automates the Thought-Action-Observation cycle\n",
        "\n",
        "### Real-World Applications:\n",
        "\n",
        "This pattern can be extended for:\n",
        "- **Customer Support**: Automated ticket triage and information lookup\n",
        "- **E-commerce**: Order tracking, inventory management\n",
        "- **Data Analysis**: Query databases, perform calculations, generate reports\n",
        "- **DevOps**: System monitoring, log analysis, incident response\n",
        "\n",
        "The ReAct pattern is powerful because it combines:\n",
        "- Natural language understanding (LLM)\n",
        "- Structured tool execution (Python functions)\n",
        "- Iterative problem-solving (loop until complete)\n",
        "\n",
        "This foundation can be extended with:\n",
        "- Database connections\n",
        "- API integrations\n",
        "- More sophisticated tools\n",
        "- Error handling and retries\n",
        "- Conversation memory and context"
      ]
    },
    {
      "cell_type": "code",
      "execution_count": null,
      "metadata": {
        "id": "iSUqAwmdZMvk"
      },
      "outputs": [],
      "source": [
        "from IPython.display import Image, display\n",
        "\n",
        "# Display the image from the URL\n",
        "display(Image(url='https://raw.githubusercontent.com/enoch-sit/project-1-ipynb/refs/heads/main/images/nativeAgent.svg'))"
      ]
    },
    {
      "cell_type": "markdown",
      "metadata": {
        "id": "KzCwpgN-ZMvk"
      },
      "source": [
        "# Group discussion\n",
        "\n",
        "**Will it works for the EDUHK endpoint?**\n",
        "\n",
        "- Why?"
      ]
    }
  ],
  "metadata": {
    "kernelspec": {
      "display_name": "Python 3",
      "language": "python",
      "name": "python3"
    },
    "language_info": {
      "codemirror_mode": {
        "name": "ipython",
        "version": 3
      },
      "file_extension": ".py",
      "mimetype": "text/x-python",
      "name": "python",
      "nbconvert_exporter": "python",
      "pygments_lexer": "ipython3",
      "version": "3.8.0"
    },
    "colab": {
      "provenance": []
    }
  },
  "nbformat": 4,
  "nbformat_minor": 0
}